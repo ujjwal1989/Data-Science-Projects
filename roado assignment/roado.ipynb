{
 "cells": [
  {
   "cell_type": "code",
   "execution_count": 3,
   "id": "90f12dd1",
   "metadata": {},
   "outputs": [],
   "source": [
    "import pandas as pd, numpy as np"
   ]
  },
  {
   "cell_type": "code",
   "execution_count": 6,
   "id": "e31fe115",
   "metadata": {},
   "outputs": [
    {
     "data": {
      "text/html": [
       "<div>\n",
       "<style scoped>\n",
       "    .dataframe tbody tr th:only-of-type {\n",
       "        vertical-align: middle;\n",
       "    }\n",
       "\n",
       "    .dataframe tbody tr th {\n",
       "        vertical-align: top;\n",
       "    }\n",
       "\n",
       "    .dataframe thead th {\n",
       "        text-align: right;\n",
       "    }\n",
       "</style>\n",
       "<table border=\"1\" class=\"dataframe\">\n",
       "  <thead>\n",
       "    <tr style=\"text-align: right;\">\n",
       "      <th></th>\n",
       "      <th>artist.gender</th>\n",
       "      <th>artist.name</th>\n",
       "      <th>artist.role</th>\n",
       "      <th>data.medium</th>\n",
       "      <th>data.thumbnail</th>\n",
       "      <th>data.title</th>\n",
       "      <th>data.url</th>\n",
       "      <th>dimensions.depth</th>\n",
       "      <th>dimensions.height</th>\n",
       "      <th>dimensions.width</th>\n",
       "      <th>metadata.acquisition date</th>\n",
       "      <th>metadata.creation decade</th>\n",
       "      <th>metadata.creation year</th>\n",
       "      <th>metadata.credit</th>\n",
       "      <th>artist.birth.location</th>\n",
       "      <th>artist.birth.year</th>\n",
       "      <th>artist.death.location</th>\n",
       "      <th>artist.death.year</th>\n",
       "    </tr>\n",
       "  </thead>\n",
       "  <tbody>\n",
       "    <tr>\n",
       "      <th>0</th>\n",
       "      <td>Female</td>\n",
       "      <td>Abakanowicz, Magdalena</td>\n",
       "      <td>artist</td>\n",
       "      <td>Burlap and resin</td>\n",
       "      <td>http://www.tate.org.uk/art/images/work/T/T12/T...</td>\n",
       "      <td>Backs</td>\n",
       "      <td>http://www.tate.org.uk/art/artworks/abakanowic...</td>\n",
       "      <td>0.0</td>\n",
       "      <td>0.0</td>\n",
       "      <td>0.0</td>\n",
       "      <td>2009</td>\n",
       "      <td>1970</td>\n",
       "      <td>1976</td>\n",
       "      <td>Presented anonymously 2009</td>\n",
       "      <td>Polska</td>\n",
       "      <td>1930</td>\n",
       "      <td>NaN</td>\n",
       "      <td>0</td>\n",
       "    </tr>\n",
       "    <tr>\n",
       "      <th>1</th>\n",
       "      <td>Male</td>\n",
       "      <td>Abbey, Edwin Austin</td>\n",
       "      <td>artist</td>\n",
       "      <td>Ink on paper</td>\n",
       "      <td>http://www.tate.org.uk/art/images/work/N/N03/N...</td>\n",
       "      <td>Illustration to Judith Shakespeare</td>\n",
       "      <td>http://www.tate.org.uk/art/artworks/abbey-illu...</td>\n",
       "      <td>0.0</td>\n",
       "      <td>419.0</td>\n",
       "      <td>305.0</td>\n",
       "      <td>1924</td>\n",
       "      <td>1880</td>\n",
       "      <td>1883</td>\n",
       "      <td>Presented by a group of admirers through John ...</td>\n",
       "      <td>Philadelphia, United States</td>\n",
       "      <td>1852</td>\n",
       "      <td>London, United Kingdom</td>\n",
       "      <td>1911</td>\n",
       "    </tr>\n",
       "    <tr>\n",
       "      <th>2</th>\n",
       "      <td>Female</td>\n",
       "      <td>Abbott, Berenice</td>\n",
       "      <td>artist</td>\n",
       "      <td>Photograph, gelatin silver print on paper</td>\n",
       "      <td>NaN</td>\n",
       "      <td>Tri-Boro Barber Shop</td>\n",
       "      <td>http://www.tate.org.uk/art/artworks/abbott-tri...</td>\n",
       "      <td>0.0</td>\n",
       "      <td>200.0</td>\n",
       "      <td>250.0</td>\n",
       "      <td>2010</td>\n",
       "      <td>1930</td>\n",
       "      <td>1935</td>\n",
       "      <td>Accepted by HM Government in lieu of inheritan...</td>\n",
       "      <td>Springfield, United States</td>\n",
       "      <td>1898</td>\n",
       "      <td>Monson, United States</td>\n",
       "      <td>1991</td>\n",
       "    </tr>\n",
       "    <tr>\n",
       "      <th>3</th>\n",
       "      <td>Male</td>\n",
       "      <td>Abbott, Lemuel Francis</td>\n",
       "      <td>artist</td>\n",
       "      <td>Oil paint on canvas</td>\n",
       "      <td>http://www.tate.org.uk/art/images/work/T/T01/T...</td>\n",
       "      <td>Portrait of the Engraver Francesco Bartolozzi</td>\n",
       "      <td>http://www.tate.org.uk/art/artworks/abbott-por...</td>\n",
       "      <td>0.0</td>\n",
       "      <td>676.0</td>\n",
       "      <td>756.0</td>\n",
       "      <td>1968</td>\n",
       "      <td>0</td>\n",
       "      <td>0</td>\n",
       "      <td>Presented by Mrs M. Bernard 1968</td>\n",
       "      <td>Leicestershire, United Kingdom</td>\n",
       "      <td>1760</td>\n",
       "      <td>London, United Kingdom</td>\n",
       "      <td>1803</td>\n",
       "    </tr>\n",
       "    <tr>\n",
       "      <th>4</th>\n",
       "      <td>Male</td>\n",
       "      <td>Abrahams, Ivor</td>\n",
       "      <td>artist</td>\n",
       "      <td>Fibreglass and polystyrene</td>\n",
       "      <td>http://www.tate.org.uk/art/images/work/T/T03/T...</td>\n",
       "      <td>Lady in Niche</td>\n",
       "      <td>http://www.tate.org.uk/art/artworks/abrahams-l...</td>\n",
       "      <td>762.0</td>\n",
       "      <td>1575.0</td>\n",
       "      <td>2095.0</td>\n",
       "      <td>1982</td>\n",
       "      <td>1970</td>\n",
       "      <td>1973</td>\n",
       "      <td>Purchased 1982</td>\n",
       "      <td>Wigan, United Kingdom</td>\n",
       "      <td>1935</td>\n",
       "      <td>NaN</td>\n",
       "      <td>0</td>\n",
       "    </tr>\n",
       "  </tbody>\n",
       "</table>\n",
       "</div>"
      ],
      "text/plain": [
       "  artist.gender             artist.name artist.role  \\\n",
       "0        Female  Abakanowicz, Magdalena      artist   \n",
       "1          Male     Abbey, Edwin Austin      artist   \n",
       "2        Female        Abbott, Berenice      artist   \n",
       "3          Male  Abbott, Lemuel Francis      artist   \n",
       "4          Male          Abrahams, Ivor      artist   \n",
       "\n",
       "                                 data.medium  \\\n",
       "0                           Burlap and resin   \n",
       "1                               Ink on paper   \n",
       "2  Photograph, gelatin silver print on paper   \n",
       "3                        Oil paint on canvas   \n",
       "4                 Fibreglass and polystyrene   \n",
       "\n",
       "                                      data.thumbnail  \\\n",
       "0  http://www.tate.org.uk/art/images/work/T/T12/T...   \n",
       "1  http://www.tate.org.uk/art/images/work/N/N03/N...   \n",
       "2                                                NaN   \n",
       "3  http://www.tate.org.uk/art/images/work/T/T01/T...   \n",
       "4  http://www.tate.org.uk/art/images/work/T/T03/T...   \n",
       "\n",
       "                                      data.title  \\\n",
       "0                                          Backs   \n",
       "1             Illustration to Judith Shakespeare   \n",
       "2                           Tri-Boro Barber Shop   \n",
       "3  Portrait of the Engraver Francesco Bartolozzi   \n",
       "4                                  Lady in Niche   \n",
       "\n",
       "                                            data.url  dimensions.depth  \\\n",
       "0  http://www.tate.org.uk/art/artworks/abakanowic...               0.0   \n",
       "1  http://www.tate.org.uk/art/artworks/abbey-illu...               0.0   \n",
       "2  http://www.tate.org.uk/art/artworks/abbott-tri...               0.0   \n",
       "3  http://www.tate.org.uk/art/artworks/abbott-por...               0.0   \n",
       "4  http://www.tate.org.uk/art/artworks/abrahams-l...             762.0   \n",
       "\n",
       "   dimensions.height  dimensions.width  metadata.acquisition date  \\\n",
       "0                0.0               0.0                       2009   \n",
       "1              419.0             305.0                       1924   \n",
       "2              200.0             250.0                       2010   \n",
       "3              676.0             756.0                       1968   \n",
       "4             1575.0            2095.0                       1982   \n",
       "\n",
       "   metadata.creation decade  metadata.creation year  \\\n",
       "0                      1970                    1976   \n",
       "1                      1880                    1883   \n",
       "2                      1930                    1935   \n",
       "3                         0                       0   \n",
       "4                      1970                    1973   \n",
       "\n",
       "                                     metadata.credit  \\\n",
       "0                         Presented anonymously 2009   \n",
       "1  Presented by a group of admirers through John ...   \n",
       "2  Accepted by HM Government in lieu of inheritan...   \n",
       "3                   Presented by Mrs M. Bernard 1968   \n",
       "4                                     Purchased 1982   \n",
       "\n",
       "            artist.birth.location  artist.birth.year   artist.death.location  \\\n",
       "0                          Polska               1930                     NaN   \n",
       "1     Philadelphia, United States               1852  London, United Kingdom   \n",
       "2      Springfield, United States               1898   Monson, United States   \n",
       "3  Leicestershire, United Kingdom               1760  London, United Kingdom   \n",
       "4           Wigan, United Kingdom               1935                     NaN   \n",
       "\n",
       "   artist.death.year  \n",
       "0                  0  \n",
       "1               1911  \n",
       "2               1991  \n",
       "3               1803  \n",
       "4                  0  "
      ]
     },
     "execution_count": 6,
     "metadata": {},
     "output_type": "execute_result"
    }
   ],
   "source": [
    "data = pd.read_csv(\"tate.csv\")\n",
    "data.head()"
   ]
  },
  {
   "cell_type": "code",
   "execution_count": 7,
   "id": "370179e9",
   "metadata": {},
   "outputs": [
    {
     "data": {
      "text/plain": [
       "Index(['artist.gender', 'artist.name', 'artist.role', 'data.medium',\n",
       "       'data.thumbnail', 'data.title', 'data.url', 'dimensions.depth',\n",
       "       'dimensions.height', 'dimensions.width', 'metadata.acquisition date',\n",
       "       'metadata.creation decade', 'metadata.creation year', 'metadata.credit',\n",
       "       'artist.birth.location', 'artist.birth.year', 'artist.death.location',\n",
       "       'artist.death.year'],\n",
       "      dtype='object')"
      ]
     },
     "execution_count": 7,
     "metadata": {},
     "output_type": "execute_result"
    }
   ],
   "source": [
    "data.columns"
   ]
  },
  {
   "cell_type": "code",
   "execution_count": 9,
   "id": "23d98a52",
   "metadata": {},
   "outputs": [
    {
     "data": {
      "text/plain": [
       "(3332, 18)"
      ]
     },
     "execution_count": 9,
     "metadata": {},
     "output_type": "execute_result"
    }
   ],
   "source": [
    "data.shape"
   ]
  },
  {
   "cell_type": "code",
   "execution_count": 16,
   "id": "cbade5f1",
   "metadata": {},
   "outputs": [
    {
     "data": {
      "text/plain": [
       "1970    415\n",
       "0       353\n",
       "1960    324\n",
       "2000    310\n",
       "1990    256\n",
       "1980    212\n",
       "1950    207\n",
       "1930    166\n",
       "1910    139\n",
       "1920    135\n",
       "1940    115\n",
       "1900     93\n",
       "1890     82\n",
       "1880     69\n",
       "1850     48\n",
       "1870     44\n",
       "1860     41\n",
       "2010     37\n",
       "1820     31\n",
       "1840     28\n",
       "1800     25\n",
       "1830     24\n",
       "1810     21\n",
       "1770     18\n",
       "1780     18\n",
       "1790     17\n",
       "1760     17\n",
       "1720     11\n",
       "1730     10\n",
       "1740     10\n",
       "1750      7\n",
       "1680      7\n",
       "1620      6\n",
       "1630      5\n",
       "1660      4\n",
       "1710      4\n",
       "1640      3\n",
       "1590      3\n",
       "1690      3\n",
       "1700      3\n",
       "1650      3\n",
       "1670      2\n",
       "1610      2\n",
       "1540      1\n",
       "1560      1\n",
       "1570      1\n",
       "1600      1\n",
       "Name: metadata.creation decade, dtype: int64"
      ]
     },
     "execution_count": 16,
     "metadata": {},
     "output_type": "execute_result"
    }
   ],
   "source": [
    "data['metadata.creation decade'].value_counts()"
   ]
  },
  {
   "cell_type": "code",
   "execution_count": 20,
   "id": "734dcb96",
   "metadata": {},
   "outputs": [
    {
     "data": {
      "text/plain": [
       "London, United Kingdom        442\n",
       "Paris, France                  54\n",
       "Edinburgh, United Kingdom      47\n",
       "New York, United States        38\n",
       "Glasgow, United Kingdom        35\n",
       "Dublin, ire                    28\n",
       "England, United Kingdom        28\n",
       "Liverpool, United Kingdom      23\n",
       "Birmingham, United Kingdom     22\n",
       "Bristol, United Kingdom        20\n",
       "Wien, sterreich                17\n",
       "Leeds, United Kingdom          16\n",
       "Berlin, Deutschland            16\n",
       "Warszawa, Polska               15\n",
       "United Kingdom                 15\n",
       "Kent, United Kingdom           14\n",
       "Surrey, United Kingdom         14\n",
       "Norwich, United Kingdom        13\n",
       "Manchester, United Kingdom     12\n",
       "Los Angeles, United States     12\n",
       "Name: artist.birth.location, dtype: int64"
      ]
     },
     "execution_count": 20,
     "metadata": {},
     "output_type": "execute_result"
    }
   ],
   "source": [
    "data['artist.birth.location'].value_counts().head(20)"
   ]
  },
  {
   "cell_type": "code",
   "execution_count": 19,
   "id": "9e4a2ab1",
   "metadata": {},
   "outputs": [
    {
     "data": {
      "text/plain": [
       "0       353\n",
       "1971     57\n",
       "1975     54\n",
       "1967     46\n",
       "1973     46\n",
       "1977     43\n",
       "1972     42\n",
       "1999     42\n",
       "1974     41\n",
       "2005     40\n",
       "Name: metadata.creation year, dtype: int64"
      ]
     },
     "execution_count": 19,
     "metadata": {},
     "output_type": "execute_result"
    }
   ],
   "source": [
    "data['metadata.creation year'].value_counts().head(10)"
   ]
  },
  {
   "cell_type": "code",
   "execution_count": 21,
   "id": "cf5699fb",
   "metadata": {},
   "outputs": [
    {
     "data": {
      "text/plain": [
       "Oil paint on canvas                          844\n",
       "Lithograph on paper                          215\n",
       "Screenprint on paper                         107\n",
       "Watercolour on paper                          85\n",
       "Photograph, gelatin silver print on paper     70\n",
       "Bronze                                        70\n",
       "Graphite on paper                             65\n",
       "Graphite and watercolour on paper             54\n",
       "Oil paint on board                            51\n",
       "Acrylic paint on canvas                       50\n",
       "Name: data.medium, dtype: int64"
      ]
     },
     "execution_count": 21,
     "metadata": {},
     "output_type": "execute_result"
    }
   ],
   "source": [
    "data['data.medium'].value_counts().head(10)"
   ]
  },
  {
   "cell_type": "code",
   "execution_count": null,
   "id": "9fd957e4",
   "metadata": {},
   "outputs": [],
   "source": []
  }
 ],
 "metadata": {
  "kernelspec": {
   "display_name": "Python 3 (ipykernel)",
   "language": "python",
   "name": "python3"
  },
  "language_info": {
   "codemirror_mode": {
    "name": "ipython",
    "version": 3
   },
   "file_extension": ".py",
   "mimetype": "text/x-python",
   "name": "python",
   "nbconvert_exporter": "python",
   "pygments_lexer": "ipython3",
   "version": "3.8.11"
  }
 },
 "nbformat": 4,
 "nbformat_minor": 5
}
